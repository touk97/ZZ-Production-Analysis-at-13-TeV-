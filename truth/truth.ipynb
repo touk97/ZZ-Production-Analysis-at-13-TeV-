{
 "cells": [
  {
   "cell_type": "code",
   "execution_count": 2,
   "metadata": {},
   "outputs": [],
   "source": []
  },
  {
   "cell_type": "code",
   "execution_count": 4,
   "metadata": {},
   "outputs": [],
   "source": [
    "import numpy as np\n",
    "from pylorentz import Momentum4\n",
    "import pandas as pd\n",
    "import os \n",
    "import uproot\n",
    "import matplotlib.pyplot as plt\n",
    "\n",
    "path = '../..//data/SR_nocut/'\n",
    "files = os.listdir(path)\n",
    "\n",
    "#Calculate significance\n",
    "def calculate_significance(S, S_er, B, B_er):\n",
    "    Z = np.sqrt(2 * ((S + B) * np.log(1 + (S / B)) - S))\n",
    "    dZ_dS = np.log(1 + S/B) / (-2*S + 2 * (B + S) * np.log(1 + S/B))\n",
    "    dZ_dB = (-S + B * np.log(1 + S/B)) / (B * np.sqrt(-2*S + 2 * (B + S) * np.log(1 + S/B)))\n",
    "    Z_er = np.sqrt((dZ_dS * S_er)**2 + (dZ_dB * B_er)**2)\n",
    "\n",
    "    return Z, Z_er"
   ]
  },
  {
   "cell_type": "code",
   "execution_count": null,
   "metadata": {},
   "outputs": [],
   "source": [
    "llvv_qq = '345666'\n",
    "llvv_gg = '345723'\n",
    "llvvjj = '363724'\n",
    "\n",
    "list_qq = []\n",
    "list_gg = []\n",
    "list_EWK = []\n",
    "list_qq_alt = []\n",
    "gw_cols = []\n",
    "parameters = [\n",
    "    'dLepR',\n",
    "    'dMetZPhi',\n",
    "    'met_tst',\n",
    "    'MetOHT',\n",
    "    'M2Lep',\n",
    "    'global_weight'\n",
    "    ]\n",
    "\n",
    "for file in files:\n",
    "\n",
    "    df = uproot.open(path + file)['tree'].arrays(library = 'pd')\n",
    "\n",
    "    if '345666' in file:   \n",
    "       print('Appending in QCD qq')\n",
    "       list_qq.append(df)\n",
    "    elif '345723' in file:\n",
    "        print('Appending in QCD gg')\n",
    "        list_gg.append(df)\n",
    "    elif '363724' in file:\n",
    "        print('Appending in EWK')\n",
    "        list_EWK.append(df)\n",
    "        # df = uproot.open(path = file)\n",
    "    elif '361604' in file:\n",
    "        print('Appending in QCD qq alternative')\n",
    "        list_qq_alt.append(df)\n",
    "\n",
    "frame_qq = pd.concat(list_qq,axis=0)\n",
    "frame_gg = pd.concat(list_gg,axis=0)\n",
    "frame_EWK = pd.concat(list_EWK,axis=0)\n",
    "# frame_qq_alt = pd.concat(list_qq_alt,axis=0)\n"
   ]
  },
  {
   "cell_type": "code",
   "execution_count": 9,
   "metadata": {},
   "outputs": [
    {
     "name": "stdout",
     "output_type": "stream",
     "text": [
      "Signal QCD qq =          2032.64 ± 17.72\n",
      "Signal QCD gg =          220.83 ± 0.33\n",
      "Signal EWK =             4.30 ± 0.04\n",
      "Signal =                 2257.77 ± 17.72\n",
      "Integrated Luminosity =  140.10 ± 2.38 fb^-1\n",
      "Correction Factor =      0.70 ± 0.01\n",
      "Fiducial cross section = 16.12 ± 0.36 fb\n"
     ]
    }
   ],
   "source": [
    "signal_qq = frame_qq['global_weight'].sum()\n",
    "signal_qq_er = np.sqrt((frame_qq['global_weight']**2).sum())\n",
    "\n",
    "signal_gg = frame_gg['global_weight'].sum()\n",
    "signal_gg_er = np.sqrt((frame_gg['global_weight']**2).sum())\n",
    "\n",
    "signal_EWK = frame_EWK['global_weight'].sum()\n",
    "signal_EWK_er = np.sqrt((frame_EWK['global_weight']**2).sum())\n",
    "\n",
    "signal_total = signal_qq + signal_gg + signal_EWK\n",
    "signal_total_er = np.sqrt(signal_qq_er**2 + signal_gg_er**2 + signal_EWK_er**2)\n",
    "\n",
    "sig_reco = 1577\n",
    "sig_reco_er = 13.8\n",
    "sig_fid = signal_total\n",
    "sig_fid_er = signal_total_er\n",
    "\n",
    "CZZ =  sig_reco / sig_fid\n",
    "CZZ_er = np.sqrt((sig_reco_er / sig_fid) ** 2 + ( sig_reco * sig_fid_er / sig_fid ** 2) ** 2)\n",
    "\n",
    "fb = 1\n",
    "lumi = 140.1 / fb\n",
    "lumi_er = 0.017 * lumi\n",
    "\n",
    "z = lumi* CZZ\n",
    "z_er = np.sqrt((CZZ * lumi_er) ** 2 + (lumi * CZZ_er) ** 2)\n",
    "\n",
    "sigma_fid = sig_reco / z\n",
    "sigma_fid_er = np.sqrt((sig_reco_er / z) ** 2 + ( sig_reco * z_er / z ** 2) ** 2)\n",
    "\n",
    "\n",
    " \n",
    "print(f\"Signal QCD qq =          {signal_qq:.2f} ± {signal_qq_er:.2f}\")\n",
    "print(f\"Signal QCD gg =          {signal_gg:.2f} ± {signal_gg_er:.2f}\")\n",
    "print(f\"Signal EWK =             {signal_EWK:.2f} ± {signal_EWK_er:.2f}\")\n",
    "print(f\"Signal =                 {signal_total:.2f} ± {signal_total_er:.2f}\")\n",
    "print(f\"Integrated Luminosity =  {lumi:.2f} ± {lumi_er:.2f} fb^{-1}\")\n",
    "print(f\"Correction Factor =      {CZZ:.2f} ± {CZZ_er:.2f}\")\n",
    "print(f\"Fiducial cross section = {sigma_fid:.2f} ± {sigma_fid_er:.2f} fb\")"
   ]
  },
  {
   "cell_type": "code",
   "execution_count": null,
   "metadata": {},
   "outputs": [],
   "source": []
  }
 ],
 "metadata": {
  "kernelspec": {
   "display_name": "base",
   "language": "python",
   "name": "python3"
  },
  "language_info": {
   "codemirror_mode": {
    "name": "ipython",
    "version": 3
   },
   "file_extension": ".py",
   "mimetype": "text/x-python",
   "name": "python",
   "nbconvert_exporter": "python",
   "pygments_lexer": "ipython3",
   "version": "3.10.6"
  },
  "orig_nbformat": 4
 },
 "nbformat": 4,
 "nbformat_minor": 2
}
